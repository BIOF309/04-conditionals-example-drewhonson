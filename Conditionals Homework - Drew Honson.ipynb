{
 "cells": [
  {
   "cell_type": "markdown",
   "metadata": {},
   "source": [
    "#**Conditionals Homework**\n",
    "##Drew Honson"
   ]
  },
  {
   "cell_type": "markdown",
   "metadata": {},
   "source": [
    "Restriction enzymes provide an easy way to clone sequences of interest into plasmid vectors, but each restriction enzyme cuts only at a single unique site. Given that biologists have discovered and mass produced hundreds of different restriction enzymes, searching a DNA sequence manually for a useful site is impractical. As such, most sequence analysis and manipulation software contains a restriction enzyme database and a search engine to find and annotate the locations of restriction sites within a provided sequence. The program I have written below provides a simple function to identify the sites of five common enzymes in a user-provided sequence.\n",
    "\n",
    "Conditionals can be found in the error message and in the enzyme search."
   ]
  },
  {
   "cell_type": "code",
   "execution_count": 10,
   "metadata": {},
   "outputs": [],
   "source": [
    "def restriction(x):\n",
    "    \"\"\"Searches a sequence for the presence of EcoRI, BamHI, HindIII, XhoI, and NheI\n",
    "    then prints the enzymes found and the locations of their sites\"\"\"\n",
    "    #Import packages for easy substring indexing and more readable print out\n",
    "    import re\n",
    "    import pprint\n",
    "    \n",
    "    #Format sequence for program\n",
    "    seq = x.upper()\n",
    "    \n",
    "    #Import the restriction enzyme dictionary\n",
    "    renzymes = {'EcoRI':'GAATTC', 'BamHI':'GGATTC', 'HindIII':'AAGCTT', \n",
    "                'XhoI':'CTCGAG', 'NheI':'GCTAGC'}\n",
    "    bases = ['A','C','T','G']\n",
    "    \n",
    "    #Search the string for non-base letters and return an error if they're found \n",
    "    #First Conditional\n",
    "    for i in seq:\n",
    "            if i not in bases:\n",
    "                raise ValueError('There are non-base letters in your sequence')\n",
    "            \n",
    "    #Set up empty lists for the enzymes found and their locations\n",
    "    enz_in_seq = []\n",
    "    loc = []\n",
    "    \n",
    "    #Search the string for the digest site, append the enzyme to enz_in_seq\n",
    "    #Second Conditional\n",
    "    for k,v in renzymes.items():\n",
    "        if v in seq:\n",
    "            enz_in_seq.append(k)\n",
    "            \n",
    "    #Append the locations of the digest site for each enzyme to indloc \n",
    "    #Append the the indloc for each enzyme to loc        \n",
    "    for i in enz_in_seq:\n",
    "        indloc = []\n",
    "        for m in re.finditer(renzymes[i], seq):\n",
    "            indloc.append(str(m.start()) + ':' + str(m.end()))\n",
    "        loc.append(indloc)\n",
    "\n",
    "    #Make a dictionary of the enzymes and their locations\n",
    "    endict = dict(zip(enz_in_seq, loc))\n",
    "    \n",
    "    #Use pretty print to format the program output\n",
    "    return pprint.pprint(endict, width = 1)\n",
    "    "
   ]
  },
  {
   "cell_type": "code",
   "execution_count": 12,
   "metadata": {},
   "outputs": [
    {
     "name": "stdout",
     "output_type": "stream",
     "text": [
      "{'EcoRI': ['0:6'],\n",
      " 'HindIII': ['121:127'],\n",
      " 'NheI': ['49:55'],\n",
      " 'XhoI': ['100:106']}\n"
     ]
    }
   ],
   "source": [
    "#Trying the program on a small section of one of my vectors\n",
    "#It detected an NheI site I hadn't accounted for, which I then confirmed\n",
    "#on another software. Unfortunately, this means I need to change my cloning\n",
    "#strategy.\n",
    "restriction('GAATTCTAGAACTGTTTCTGTAGACCAGGTTGGCCTCAAAATCAGAGTTGCTAGCTTCTGCCTCCCCAATACTAGGAGTAAAGCCCCATTGCAAATTCTCCTCGAGATCTGCGATCTAAGTAAGCTTGGCATTCCGGTACTGT')"
   ]
  },
  {
   "cell_type": "code",
   "execution_count": null,
   "metadata": {
    "collapsed": true
   },
   "outputs": [],
   "source": []
  }
 ],
 "metadata": {
  "kernelspec": {
   "display_name": "Python 3",
   "language": "python",
   "name": "python3"
  },
  "language_info": {
   "codemirror_mode": {
    "name": "ipython",
    "version": 3
   },
   "file_extension": ".py",
   "mimetype": "text/x-python",
   "name": "python",
   "nbconvert_exporter": "python",
   "pygments_lexer": "ipython3",
   "version": "3.6.1"
  }
 },
 "nbformat": 4,
 "nbformat_minor": 2
}
